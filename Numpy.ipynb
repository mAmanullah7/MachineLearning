{
  "nbformat": 4,
  "nbformat_minor": 0,
  "metadata": {
    "colab": {
      "provenance": [],
      "authorship_tag": "ABX9TyMv7JjTTJFsOPrOFnbn6NY2",
      "include_colab_link": true
    },
    "kernelspec": {
      "name": "python3",
      "display_name": "Python 3"
    },
    "language_info": {
      "name": "python"
    }
  },
  "cells": [
    {
      "cell_type": "markdown",
      "metadata": {
        "id": "view-in-github",
        "colab_type": "text"
      },
      "source": [
        "<a href=\"https://colab.research.google.com/github/mAmanullah7/MachineLearning/blob/main/Numpy.ipynb\" target=\"_parent\"><img src=\"https://colab.research.google.com/assets/colab-badge.svg\" alt=\"Open In Colab\"/></a>"
      ]
    },
    {
      "cell_type": "markdown",
      "source": [
        "Advantages:-\n",
        "1 - allow several mathematics operations\n",
        "2 - much faster\n"
      ],
      "metadata": {
        "id": "Y30_z5hUhG8s"
      }
    },
    {
      "cell_type": "code",
      "execution_count": 11,
      "metadata": {
        "colab": {
          "base_uri": "https://localhost:8080/"
        },
        "id": "48FpKI1phCrz",
        "outputId": "225ceed9-947f-42f6-8428-20d62125c050"
      },
      "outputs": [
        {
          "output_type": "stream",
          "name": "stdout",
          "text": [
            "0.0015126139999996902\n"
          ]
        }
      ],
      "source": [
        "import numpy as np\n",
        "\n",
        "# list vs numpy time taken\n",
        "\n",
        "from time import process_time\n",
        "# time taken by a list\n",
        "python_list = [i for i in range(10000)]\n",
        "start_t = process_time()\n",
        "python_list = [i+5 for i in python_list]\n",
        "end_t = process_time()\n",
        "print(end_t-start_t)"
      ]
    },
    {
      "cell_type": "code",
      "source": [
        "np_array = np.array([i for i in range(10000)])\n",
        "start_t = process_time()\n",
        "np_array+=5\n",
        "end_t = process_time()\n",
        "print(end_t-start_t)\n"
      ],
      "metadata": {
        "colab": {
          "base_uri": "https://localhost:8080/"
        },
        "id": "3hG552NNhVYp",
        "outputId": "d26e6d37-472b-4ba0-a956-7e8e6ac3c92d"
      },
      "execution_count": 3,
      "outputs": [
        {
          "output_type": "stream",
          "name": "stdout",
          "text": [
            "0.00019379299999999766\n"
          ]
        }
      ]
    },
    {
      "cell_type": "markdown",
      "source": [
        "numpy is much faster than normal list\n"
      ],
      "metadata": {
        "id": "4P4yc3anjCVR"
      }
    },
    {
      "cell_type": "code",
      "source": [
        "list = [1,2,3,4,5]\n",
        "print(list)\n",
        "type(list)"
      ],
      "metadata": {
        "colab": {
          "base_uri": "https://localhost:8080/"
        },
        "id": "aJbAxfRTjI5z",
        "outputId": "93005426-a638-4b5e-f5c8-87dbeacedffe"
      },
      "execution_count": 5,
      "outputs": [
        {
          "output_type": "stream",
          "name": "stdout",
          "text": [
            "[1, 2, 3, 4, 5]\n"
          ]
        },
        {
          "output_type": "execute_result",
          "data": {
            "text/plain": [
              "list"
            ]
          },
          "metadata": {},
          "execution_count": 5
        }
      ]
    },
    {
      "cell_type": "code",
      "source": [
        "np_array = np.array([1,2,3,4,5])\n",
        "print(np_array)\n",
        "type(np_array)"
      ],
      "metadata": {
        "colab": {
          "base_uri": "https://localhost:8080/"
        },
        "id": "VzU95tfVjVsi",
        "outputId": "34457c0a-9300-4864-c4a9-7fc01565fa87"
      },
      "execution_count": 4,
      "outputs": [
        {
          "output_type": "stream",
          "name": "stdout",
          "text": [
            "[1 2 3 4 5]\n"
          ]
        },
        {
          "output_type": "execute_result",
          "data": {
            "text/plain": [
              "numpy.ndarray"
            ]
          },
          "metadata": {},
          "execution_count": 4
        }
      ]
    },
    {
      "cell_type": "code",
      "source": [
        "# creating a 1D array\n",
        "a = np.array([1,2,3,4,5])\n",
        "print(a)\n",
        "a.shape"
      ],
      "metadata": {
        "colab": {
          "base_uri": "https://localhost:8080/"
        },
        "id": "Y4Ou2TUTj9rH",
        "outputId": "0d62bd3f-bb33-49c1-ab08-1240ebec2777"
      },
      "execution_count": 6,
      "outputs": [
        {
          "output_type": "stream",
          "name": "stdout",
          "text": [
            "[1 2 3 4 5]\n"
          ]
        },
        {
          "output_type": "execute_result",
          "data": {
            "text/plain": [
              "(5,)"
            ]
          },
          "metadata": {},
          "execution_count": 6
        }
      ]
    },
    {
      "cell_type": "code",
      "source": [
        "# creating 2D array\n",
        "b = np.array([(1,2,3,),(3,4,5)])\n",
        "print(b)\n",
        "b.shape\n",
        "# if we didn't mention the datatype then it will bw considered as int\n"
      ],
      "metadata": {
        "colab": {
          "base_uri": "https://localhost:8080/"
        },
        "id": "Ld2EcDH-kNyl",
        "outputId": "6c7445cf-e057-4058-9b3c-43e31856bb02"
      },
      "execution_count": 7,
      "outputs": [
        {
          "output_type": "stream",
          "name": "stdout",
          "text": [
            "[[1 2 3]\n",
            " [3 4 5]]\n"
          ]
        },
        {
          "output_type": "execute_result",
          "data": {
            "text/plain": [
              "(2, 3)"
            ]
          },
          "metadata": {},
          "execution_count": 7
        }
      ]
    },
    {
      "cell_type": "code",
      "source": [
        "b = np.array([(1,2,3,),(3,4,5)],dtype=float)\n",
        "print(b)\n",
        "b.shape"
      ],
      "metadata": {
        "colab": {
          "base_uri": "https://localhost:8080/"
        },
        "id": "ZeOZwwzRkv8i",
        "outputId": "de2f9270-5451-40a8-dd27-711b513c3dfb"
      },
      "execution_count": 8,
      "outputs": [
        {
          "output_type": "stream",
          "name": "stdout",
          "text": [
            "[[1. 2. 3.]\n",
            " [3. 4. 5.]]\n"
          ]
        },
        {
          "output_type": "execute_result",
          "data": {
            "text/plain": [
              "(2, 3)"
            ]
          },
          "metadata": {},
          "execution_count": 8
        }
      ]
    },
    {
      "cell_type": "code",
      "source": [
        "# create a numpy array of zeros\n",
        "y = np.zeros((3,3))\n",
        "print(y)"
      ],
      "metadata": {
        "colab": {
          "base_uri": "https://localhost:8080/"
        },
        "id": "2puWmyh_k3DP",
        "outputId": "a57c3be5-eb50-4622-b28b-b602f0613117"
      },
      "execution_count": 9,
      "outputs": [
        {
          "output_type": "stream",
          "name": "stdout",
          "text": [
            "[[0. 0. 0.]\n",
            " [0. 0. 0.]\n",
            " [0. 0. 0.]]\n"
          ]
        }
      ]
    },
    {
      "cell_type": "code",
      "source": [
        "# create a numpy array of ones\n",
        "x = np.ones((4,4))\n",
        "print(x)"
      ],
      "metadata": {
        "colab": {
          "base_uri": "https://localhost:8080/"
        },
        "id": "tzaGuBKUlbuE",
        "outputId": "464c4372-fb77-462a-cff6-dd1baed2cccc"
      },
      "execution_count": 10,
      "outputs": [
        {
          "output_type": "stream",
          "name": "stdout",
          "text": [
            "[[1. 1. 1. 1.]\n",
            " [1. 1. 1. 1.]\n",
            " [1. 1. 1. 1.]\n",
            " [1. 1. 1. 1.]]\n"
          ]
        }
      ]
    },
    {
      "cell_type": "code",
      "source": [
        "rng = np.random.default_rng()\n",
        "samples = rng.normal(size=2500)\n",
        "print(samples)"
      ],
      "metadata": {
        "colab": {
          "base_uri": "https://localhost:8080/"
        },
        "id": "uJ0CCyTFzZgQ",
        "outputId": "73de0554-742e-428b-cf12-f1184376f4e1"
      },
      "execution_count": 13,
      "outputs": [
        {
          "output_type": "stream",
          "name": "stdout",
          "text": [
            "[-1.02543441  1.08165674  0.11201932 ...  0.40781286 -0.24492202\n",
            "  1.42631836]\n"
          ]
        }
      ]
    },
    {
      "cell_type": "code",
      "source": [
        "x = np.arange(15, dtype=np.int64).reshape(3, 5)\n",
        "x[1:, ::2] = -99\n",
        "print(x)"
      ],
      "metadata": {
        "colab": {
          "base_uri": "https://localhost:8080/"
        },
        "id": "pWq2R1OTzjLD",
        "outputId": "5f2e4650-ef86-4c8b-afc5-d22990c99a15"
      },
      "execution_count": 15,
      "outputs": [
        {
          "output_type": "stream",
          "name": "stdout",
          "text": [
            "[[  0   1   2   3   4]\n",
            " [-99   6 -99   8 -99]\n",
            " [-99  11 -99  13 -99]]\n"
          ]
        }
      ]
    },
    {
      "cell_type": "code",
      "source": [
        "# Creating a 3X4 array with all zeros\n",
        "c = np.zeros((3, 4))\n",
        "print (\"An array initialized with all zeros:\\n\", c)\n",
        "\n",
        "# Create a constant value array of complex type\n",
        "d = np.full((3, 3), 6, dtype = 'complex')\n",
        "print (\"An array initialized with all 6s.\"\n",
        "\t\t\t\"Array type is complex:\\n\", d)\n",
        "\n",
        "# Create an array with random values\n",
        "e = np.random.random((2, 2))\n",
        "print (\"A random array:\\n\", e)\n"
      ],
      "metadata": {
        "colab": {
          "base_uri": "https://localhost:8080/"
        },
        "id": "JBdLqUQw0UpI",
        "outputId": "58e9b9aa-dbeb-437c-d010-0a898ca8792c"
      },
      "execution_count": 16,
      "outputs": [
        {
          "output_type": "stream",
          "name": "stdout",
          "text": [
            "An array initialized with all zeros:\n",
            " [[0. 0. 0. 0.]\n",
            " [0. 0. 0. 0.]\n",
            " [0. 0. 0. 0.]]\n",
            "An array initialized with all 6s.Array type is complex:\n",
            " [[6.+0.j 6.+0.j 6.+0.j]\n",
            " [6.+0.j 6.+0.j 6.+0.j]\n",
            " [6.+0.j 6.+0.j 6.+0.j]]\n",
            "A random array:\n",
            " [[0.0453484  0.76486218]\n",
            " [0.67380183 0.99767839]]\n"
          ]
        }
      ]
    },
    {
      "cell_type": "code",
      "source": [
        "# Python program to demonstrate\n",
        "# indexing in numpy\n",
        "import numpy as np\n",
        "\n",
        "# An exemplar array\n",
        "arr = np.array([[-1, 2, 0, 4],\n",
        "\t\t\t\t[4, -0.5, 6, 0],\n",
        "\t\t\t\t[2.6, 0, 7, 8],\n",
        "\t\t\t\t[3, -7, 4, 2.0]])\n",
        "\n",
        "# Slicing array\n",
        "temp = arr[:2, ::2]\n",
        "print (\"Array with first 2 rows and alternate\"\n",
        "\t\t\t\t\t\"columns(0 and 2):\\n\", temp)\n",
        "\n",
        "# Integer array indexing example\n",
        "temp = arr[[0, 1, 2, 3], [3, 2, 1, 0]]\n",
        "print (\"\\nElements at indices (0, 3), (1, 2), (2, 1),\"\n",
        "\t\t\t\t\t\t\t\t\t\"(3, 0):\\n\", temp)\n",
        "\n",
        "# boolean array indexing example\n",
        "cond = arr > 0 # cond is a boolean array\n",
        "temp = arr[cond]\n",
        "print (\"\\nElements greater than 0:\\n\", temp)\n"
      ],
      "metadata": {
        "colab": {
          "base_uri": "https://localhost:8080/"
        },
        "id": "ePezuqZN0ZIo",
        "outputId": "bf3d774e-f7cf-4f13-febb-3d4d59d999e1"
      },
      "execution_count": 17,
      "outputs": [
        {
          "output_type": "stream",
          "name": "stdout",
          "text": [
            "Array with first 2 rows and alternatecolumns(0 and 2):\n",
            " [[-1.  0.]\n",
            " [ 4.  6.]]\n",
            "\n",
            "Elements at indices (0, 3), (1, 2), (2, 1),(3, 0):\n",
            " [4. 6. 0. 3.]\n",
            "\n",
            "Elements greater than 0:\n",
            " [2.  4.  4.  6.  2.6 7.  8.  3.  4.  2. ]\n"
          ]
        }
      ]
    },
    {
      "cell_type": "code",
      "source": [
        "# Python program to demonstrate\n",
        "# basic operations on single array\n",
        "import numpy as np\n",
        "\n",
        "a = np.array([1, 2, 5, 3])\n",
        "\n",
        "# add 1 to every element\n",
        "print (\"Adding 1 to every element:\", a+1)\n",
        "\n",
        "# subtract 3 from each element\n",
        "print (\"Subtracting 3 from each element:\", a-3)\n",
        "\n",
        "# multiply each element by 10\n",
        "print (\"Multiplying each element by 10:\", a*10)\n",
        "\n",
        "# square each element\n",
        "print (\"Squaring each element:\", a**2)\n",
        "\n",
        "# modify existing array\n",
        "a *= 2\n",
        "print (\"Doubled each element of original array:\", a)\n",
        "\n",
        "# transpose of array\n",
        "a = np.array([[1, 2, 3], [3, 4, 5], [9, 6, 0]])\n",
        "\n",
        "print (\"\\nOriginal array:\\n\", a)\n",
        "print (\"Transpose of array:\\n\", a.T)\n"
      ],
      "metadata": {
        "colab": {
          "base_uri": "https://localhost:8080/"
        },
        "id": "WLG6JUef0csf",
        "outputId": "4fbd944e-1148-4f47-b105-a5d5743eaf84"
      },
      "execution_count": 18,
      "outputs": [
        {
          "output_type": "stream",
          "name": "stdout",
          "text": [
            "Adding 1 to every element: [2 3 6 4]\n",
            "Subtracting 3 from each element: [-2 -1  2  0]\n",
            "Multiplying each element by 10: [10 20 50 30]\n",
            "Squaring each element: [ 1  4 25  9]\n",
            "Doubled each element of original array: [ 2  4 10  6]\n",
            "\n",
            "Original array:\n",
            " [[1 2 3]\n",
            " [3 4 5]\n",
            " [9 6 0]]\n",
            "Transpose of array:\n",
            " [[1 3 9]\n",
            " [2 4 6]\n",
            " [3 5 0]]\n"
          ]
        }
      ]
    },
    {
      "cell_type": "code",
      "source": [
        "# Python program to demonstrate sorting in numpy\n",
        "import numpy as np\n",
        "\n",
        "a = np.array([[1, 4, 2],\n",
        "\t\t\t\t[3, 4, 6],\n",
        "\t\t\t[0, -1, 5]])\n",
        "\n",
        "# sorted array\n",
        "print (\"Array elements in sorted order:\\n\",\n",
        "\t\t\t\t\tnp.sort(a, axis = None))\n",
        "\n",
        "# sort array row-wise\n",
        "print (\"Row-wise sorted array:\\n\",\n",
        "\t\t\t\tnp.sort(a, axis = 1))\n",
        "\n",
        "# specify sort algorithm\n",
        "print (\"Column wise sort by applying merge-sort:\\n\",\n",
        "\t\t\tnp.sort(a, axis = 0, kind = 'mergesort'))\n",
        "\n",
        "# Example to show sorting of structured array\n",
        "# set alias names for dtypes\n",
        "dtypes = [('name', 'S10'), ('grad_year', int), ('cgpa', float)]\n",
        "\n",
        "# Values to be put in array\n",
        "values = [('Hrithik', 2009, 8.5), ('Ajay', 2008, 8.7),\n",
        "\t\t('Pankaj', 2008, 7.9), ('Aakash', 2009, 9.0)]\n",
        "\n",
        "# Creating array\n",
        "arr = np.array(values, dtype = dtypes)\n",
        "print (\"\\nArray sorted by names:\\n\",\n",
        "\t\t\tnp.sort(arr, order = 'name'))\n",
        "\n",
        "print (\"Array sorted by graduation year and then cgpa:\\n\",\n",
        "\t\t\t\tnp.sort(arr, order = ['grad_year', 'cgpa']))\n"
      ],
      "metadata": {
        "colab": {
          "base_uri": "https://localhost:8080/"
        },
        "id": "BluZMU_u0hoX",
        "outputId": "661042d7-ea76-4c4b-8f20-24681aab8465"
      },
      "execution_count": 19,
      "outputs": [
        {
          "output_type": "stream",
          "name": "stdout",
          "text": [
            "Array elements in sorted order:\n",
            " [-1  0  1  2  3  4  4  5  6]\n",
            "Row-wise sorted array:\n",
            " [[ 1  2  4]\n",
            " [ 3  4  6]\n",
            " [-1  0  5]]\n",
            "Column wise sort by applying merge-sort:\n",
            " [[ 0 -1  2]\n",
            " [ 1  4  5]\n",
            " [ 3  4  6]]\n",
            "\n",
            "Array sorted by names:\n",
            " [(b'Aakash', 2009, 9. ) (b'Ajay', 2008, 8.7) (b'Hrithik', 2009, 8.5)\n",
            " (b'Pankaj', 2008, 7.9)]\n",
            "Array sorted by graduation year and then cgpa:\n",
            " [(b'Pankaj', 2008, 7.9) (b'Ajay', 2008, 8.7) (b'Hrithik', 2009, 8.5)\n",
            " (b'Aakash', 2009, 9. )]\n"
          ]
        }
      ]
    }
  ]
}